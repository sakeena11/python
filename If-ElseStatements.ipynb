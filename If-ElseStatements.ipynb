{
 "cells": [
  {
   "cell_type": "code",
   "execution_count": 6,
   "id": "712602b4",
   "metadata": {},
   "outputs": [
    {
     "name": "stdout",
     "output_type": "stream",
     "text": [
      "a is less than b\n",
      "a is definitely less than b\n",
      "hello\n"
     ]
    }
   ],
   "source": [
    "a = 1\n",
    "b = 2\n",
    "if a < b:\n",
    "    print (\"a is less than b\")\n",
    "    print (\"a is definitely less than b\")\n",
    "print (\"hello\")"
   ]
  },
  {
   "cell_type": "code",
   "execution_count": 10,
   "id": "ddf5bc04",
   "metadata": {},
   "outputs": [
    {
     "name": "stdout",
     "output_type": "stream",
     "text": [
      "c is less than d\n",
      "outside of if block\n"
     ]
    }
   ],
   "source": [
    "c = 3\n",
    "d = 4\n",
    "if c < d:\n",
    "    print (\"c is less than d\")\n",
    "else: \n",
    "    print (\"c is not less than d\")\n",
    "    print (\"c is defnitely not less than d\")\n",
    "print (\"outside of if block\")"
   ]
  },
  {
   "cell_type": "code",
   "execution_count": 17,
   "id": "40d3b9fd",
   "metadata": {},
   "outputs": [
    {
     "name": "stdout",
     "output_type": "stream",
     "text": [
      "e is greater than f by more than 10\n"
     ]
    }
   ],
   "source": [
    "e = 20\n",
    "f = 8\n",
    "if e < f:\n",
    "    print (\"e is less than f\")\n",
    "elif e == f:\n",
    "    print (\" e is equal to f\")\n",
    "elif e > f + 10:\n",
    "    print (\"e is greater than f by more than 10\")\n",
    "else:\n",
    "    print (\"e is greater than f\")"
   ]
  },
  {
   "cell_type": "code",
   "execution_count": 19,
   "id": "979efbfc",
   "metadata": {},
   "outputs": [
    {
     "name": "stdout",
     "output_type": "stream",
     "text": [
      "g is less than h\n"
     ]
    }
   ],
   "source": [
    "g  = 7\n",
    "h = 8\n",
    "if g < h:\n",
    "    print (\"g is less than h\")\n",
    "else:\n",
    "    if g == h:\n",
    "        print (\"g is equal to h\")\n",
    "    else:\n",
    "        print (\"g is greater than h\")"
   ]
  },
  {
   "cell_type": "code",
   "execution_count": 24,
   "id": "a813023e",
   "metadata": {},
   "outputs": [
    {
     "name": "stdout",
     "output_type": "stream",
     "text": [
      "bmi: \n",
      "27.5\n",
      "Tota\n",
      "is overweight\n"
     ]
    }
   ],
   "source": [
    "name = \"Tota\"\n",
    "height_m = 2\n",
    "weight_kg = 110\n",
    "\n",
    "bmi = weight_kg / (height_m ** 2)\n",
    "print (\"bmi: \")\n",
    "print (bmi)\n",
    "if bmi < 25:\n",
    "    print (\"name\")\n",
    "    print (\"is not overweight\")\n",
    "else: \n",
    "    print (name)\n",
    "    print (\"is overweight\")"
   ]
  },
  {
   "cell_type": "code",
   "execution_count": null,
   "id": "e7a693ba",
   "metadata": {},
   "outputs": [],
   "source": []
  }
 ],
 "metadata": {
  "kernelspec": {
   "display_name": "Python 3",
   "language": "python",
   "name": "python3"
  },
  "language_info": {
   "codemirror_mode": {
    "name": "ipython",
    "version": 3
   },
   "file_extension": ".py",
   "mimetype": "text/x-python",
   "name": "python",
   "nbconvert_exporter": "python",
   "pygments_lexer": "ipython3",
   "version": "3.8.8"
  }
 },
 "nbformat": 4,
 "nbformat_minor": 5
}
